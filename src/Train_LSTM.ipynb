{
  "nbformat": 4,
  "nbformat_minor": 2,
  "metadata": {
    "colab": {
      "name": "W251 Final LSTM Keras 256",
      "provenance": [],
      "collapsed_sections": []
    },
    "kernelspec": {
      "display_name": "Python 3",
      "name": "python3"
    },
    "language_info": {
      "name": "python"
    },
    "widgets": {
      "application/vnd.jupyter.widget-state+json": {
        "f4a2e8fcb6474e43ab8099d8ae51689b": {
          "model_module": "@jupyter-widgets/controls",
          "model_name": "VBoxModel",
          "state": {
            "_view_name": "VBoxView",
            "_dom_classes": [],
            "_model_name": "VBoxModel",
            "_view_module": "@jupyter-widgets/controls",
            "_model_module_version": "1.5.0",
            "_view_count": null,
            "_view_module_version": "1.5.0",
            "box_style": "",
            "layout": "IPY_MODEL_a32c6773b1584e3bab01298d5bc21bd0",
            "_model_module": "@jupyter-widgets/controls",
            "children": [
              "IPY_MODEL_f71887e36638462199275fb1ca1c17a2",
              "IPY_MODEL_3476467a0e0a4978a1b232bf3e598567"
            ]
          }
        },
        "a32c6773b1584e3bab01298d5bc21bd0": {
          "model_module": "@jupyter-widgets/base",
          "model_name": "LayoutModel",
          "state": {
            "_view_name": "LayoutView",
            "grid_template_rows": null,
            "right": null,
            "justify_content": null,
            "_view_module": "@jupyter-widgets/base",
            "overflow": null,
            "_model_module_version": "1.2.0",
            "_view_count": null,
            "flex_flow": null,
            "width": null,
            "min_width": null,
            "border": null,
            "align_items": null,
            "bottom": null,
            "_model_module": "@jupyter-widgets/base",
            "top": null,
            "grid_column": null,
            "overflow_y": null,
            "overflow_x": null,
            "grid_auto_flow": null,
            "grid_area": null,
            "grid_template_columns": null,
            "flex": null,
            "_model_name": "LayoutModel",
            "justify_items": null,
            "grid_row": null,
            "max_height": null,
            "align_content": null,
            "visibility": null,
            "align_self": null,
            "height": null,
            "min_height": null,
            "padding": null,
            "grid_auto_rows": null,
            "grid_gap": null,
            "max_width": null,
            "order": null,
            "_view_module_version": "1.2.0",
            "grid_template_areas": null,
            "object_position": null,
            "object_fit": null,
            "grid_auto_columns": null,
            "margin": null,
            "display": null,
            "left": null
          }
        },
        "f71887e36638462199275fb1ca1c17a2": {
          "model_module": "@jupyter-widgets/controls",
          "model_name": "LabelModel",
          "state": {
            "_view_name": "LabelView",
            "style": "IPY_MODEL_290bca8806c34770bc78d215057562ec",
            "_dom_classes": [],
            "description": "",
            "_model_name": "LabelModel",
            "placeholder": "​",
            "_view_module": "@jupyter-widgets/controls",
            "_model_module_version": "1.5.0",
            "value": " 0.81MB of 0.81MB uploaded (0.00MB deduped)\r",
            "_view_count": null,
            "_view_module_version": "1.5.0",
            "description_tooltip": null,
            "_model_module": "@jupyter-widgets/controls",
            "layout": "IPY_MODEL_027fadd5c1504f808b900c7d44c995c5"
          }
        },
        "3476467a0e0a4978a1b232bf3e598567": {
          "model_module": "@jupyter-widgets/controls",
          "model_name": "FloatProgressModel",
          "state": {
            "_view_name": "ProgressView",
            "style": "IPY_MODEL_3fbe25368fa24495af4d96cc5b8e15fd",
            "_dom_classes": [],
            "description": "",
            "_model_name": "FloatProgressModel",
            "bar_style": "",
            "max": 1,
            "_view_module": "@jupyter-widgets/controls",
            "_model_module_version": "1.5.0",
            "value": 1,
            "_view_count": null,
            "_view_module_version": "1.5.0",
            "orientation": "horizontal",
            "min": 0,
            "description_tooltip": null,
            "_model_module": "@jupyter-widgets/controls",
            "layout": "IPY_MODEL_2485ab1a0c274779b62a1e7af95748ff"
          }
        },
        "290bca8806c34770bc78d215057562ec": {
          "model_module": "@jupyter-widgets/controls",
          "model_name": "DescriptionStyleModel",
          "state": {
            "_view_name": "StyleView",
            "_model_name": "DescriptionStyleModel",
            "description_width": "",
            "_view_module": "@jupyter-widgets/base",
            "_model_module_version": "1.5.0",
            "_view_count": null,
            "_view_module_version": "1.2.0",
            "_model_module": "@jupyter-widgets/controls"
          }
        },
        "027fadd5c1504f808b900c7d44c995c5": {
          "model_module": "@jupyter-widgets/base",
          "model_name": "LayoutModel",
          "state": {
            "_view_name": "LayoutView",
            "grid_template_rows": null,
            "right": null,
            "justify_content": null,
            "_view_module": "@jupyter-widgets/base",
            "overflow": null,
            "_model_module_version": "1.2.0",
            "_view_count": null,
            "flex_flow": null,
            "width": null,
            "min_width": null,
            "border": null,
            "align_items": null,
            "bottom": null,
            "_model_module": "@jupyter-widgets/base",
            "top": null,
            "grid_column": null,
            "overflow_y": null,
            "overflow_x": null,
            "grid_auto_flow": null,
            "grid_area": null,
            "grid_template_columns": null,
            "flex": null,
            "_model_name": "LayoutModel",
            "justify_items": null,
            "grid_row": null,
            "max_height": null,
            "align_content": null,
            "visibility": null,
            "align_self": null,
            "height": null,
            "min_height": null,
            "padding": null,
            "grid_auto_rows": null,
            "grid_gap": null,
            "max_width": null,
            "order": null,
            "_view_module_version": "1.2.0",
            "grid_template_areas": null,
            "object_position": null,
            "object_fit": null,
            "grid_auto_columns": null,
            "margin": null,
            "display": null,
            "left": null
          }
        },
        "3fbe25368fa24495af4d96cc5b8e15fd": {
          "model_module": "@jupyter-widgets/controls",
          "model_name": "ProgressStyleModel",
          "state": {
            "_view_name": "StyleView",
            "_model_name": "ProgressStyleModel",
            "description_width": "",
            "_view_module": "@jupyter-widgets/base",
            "_model_module_version": "1.5.0",
            "_view_count": null,
            "_view_module_version": "1.2.0",
            "bar_color": null,
            "_model_module": "@jupyter-widgets/controls"
          }
        },
        "2485ab1a0c274779b62a1e7af95748ff": {
          "model_module": "@jupyter-widgets/base",
          "model_name": "LayoutModel",
          "state": {
            "_view_name": "LayoutView",
            "grid_template_rows": null,
            "right": null,
            "justify_content": null,
            "_view_module": "@jupyter-widgets/base",
            "overflow": null,
            "_model_module_version": "1.2.0",
            "_view_count": null,
            "flex_flow": null,
            "width": null,
            "min_width": null,
            "border": null,
            "align_items": null,
            "bottom": null,
            "_model_module": "@jupyter-widgets/base",
            "top": null,
            "grid_column": null,
            "overflow_y": null,
            "overflow_x": null,
            "grid_auto_flow": null,
            "grid_area": null,
            "grid_template_columns": null,
            "flex": null,
            "_model_name": "LayoutModel",
            "justify_items": null,
            "grid_row": null,
            "max_height": null,
            "align_content": null,
            "visibility": null,
            "align_self": null,
            "height": null,
            "min_height": null,
            "padding": null,
            "grid_auto_rows": null,
            "grid_gap": null,
            "max_width": null,
            "order": null,
            "_view_module_version": "1.2.0",
            "grid_template_areas": null,
            "object_position": null,
            "object_fit": null,
            "grid_auto_columns": null,
            "margin": null,
            "display": null,
            "left": null
          }
        }
      }
    }
  },
  "cells": [
    {
      "cell_type": "code",
      "execution_count": 2,
      "source": [
        "# import argparse\n",
        "import numpy as np\n",
        "import pandas as pd\n",
        "from multiprocessing import cpu_count\n",
        "from sklearn.model_selection import train_test_split\n",
        "from sklearn.metrics import classification_report, confusion_matrix, ConfusionMatrixDisplay\n",
        "import matplotlib.pyplot as plt\n",
        "#import keras\n",
        "\n",
        "import tensorflow as tf\n",
        "from tensorflow.keras.models import Sequential\n",
        "from tensorflow.keras.layers import LSTM, Dense, Dropout\n",
        "from tensorflow.keras.optimizers import RMSprop"
      ],
      "outputs": [],
      "metadata": {
        "id": "TvOAyhwdN_mA"
      }
    },
    {
      "cell_type": "code",
      "execution_count": null,
      "source": [
        "!pip install wandb"
      ],
      "outputs": [],
      "metadata": {}
    },
    {
      "cell_type": "code",
      "execution_count": 3,
      "source": [
        "import wandb"
      ],
      "outputs": [],
      "metadata": {
        "id": "OsmbvGEOOGSs"
      }
    },
    {
      "cell_type": "code",
      "execution_count": 4,
      "source": [
        "wandb.login()"
      ],
      "outputs": [
        {
          "output_type": "display_data",
          "data": {
            "text/plain": [
              "<IPython.core.display.Javascript object>"
            ],
            "application/javascript": "\n        window._wandbApiKey = new Promise((resolve, reject) => {\n            function loadScript(url) {\n            return new Promise(function(resolve, reject) {\n                let newScript = document.createElement(\"script\");\n                newScript.onerror = reject;\n                newScript.onload = resolve;\n                document.body.appendChild(newScript);\n                newScript.src = url;\n            });\n            }\n            loadScript(\"https://cdn.jsdelivr.net/npm/postmate/build/postmate.min.js\").then(() => {\n            const iframe = document.createElement('iframe')\n            iframe.style.cssText = \"width:0;height:0;border:none\"\n            document.body.appendChild(iframe)\n            const handshake = new Postmate({\n                container: iframe,\n                url: 'https://wandb.ai/authorize'\n            });\n            const timeout = setTimeout(() => reject(\"Couldn't auto authenticate\"), 5000)\n            handshake.then(function(child) {\n                child.on('authorize', data => {\n                    clearTimeout(timeout)\n                    resolve(data)\n                });\n            });\n            })\n        });\n    "
          },
          "metadata": {
            "tags": []
          }
        },
        {
          "output_type": "stream",
          "name": "stderr",
          "text": [
            "\u001b[34m\u001b[1mwandb\u001b[0m: You can find your API key in your browser here: https://wandb.ai/authorize\n"
          ]
        },
        {
          "output_type": "stream",
          "name": "stdout",
          "text": [
            "wandb: Paste an API key from your profile and hit enter: ··········\n"
          ]
        },
        {
          "output_type": "stream",
          "name": "stderr",
          "text": [
            "\u001b[34m\u001b[1mwandb\u001b[0m: Appending key for api.wandb.ai to your netrc file: /root/.netrc\n"
          ]
        },
        {
          "output_type": "execute_result",
          "data": {
            "text/plain": [
              "True"
            ]
          },
          "metadata": {
            "tags": []
          },
          "execution_count": 4
        }
      ],
      "metadata": {
        "colab": {
          "base_uri": "https://localhost:8080/",
          "height": 108
        },
        "id": "kzbyfPUmOJgb",
        "outputId": "71505582-f00a-44fd-a5ce-68d9260cf723"
      }
    },
    {
      "cell_type": "code",
      "execution_count": 5,
      "source": [
        "from wandb.keras import WandbCallback"
      ],
      "outputs": [],
      "metadata": {
        "id": "nfZXv_hPO-ts"
      }
    },
    {
      "cell_type": "code",
      "execution_count": 6,
      "source": [
        "wandb.init(project='w251-final-lstm-r18-224-f15-c5')"
      ],
      "outputs": [
        {
          "output_type": "stream",
          "name": "stderr",
          "text": [
            "\u001b[34m\u001b[1mwandb\u001b[0m: Currently logged in as: \u001b[33mseancampos\u001b[0m (use `wandb login --relogin` to force relogin)\n"
          ]
        },
        {
          "output_type": "display_data",
          "data": {
            "text/plain": [
              "<IPython.core.display.HTML object>"
            ],
            "text/html": [
              "\n",
              "                Tracking run with wandb version 0.11.2<br/>\n",
              "                Syncing run <strong style=\"color:#cdcd00\">celestial-voice-1</strong> to <a href=\"https://wandb.ai\" target=\"_blank\">Weights & Biases</a> <a href=\"https://docs.wandb.com/integrations/jupyter.html\" target=\"_blank\">(Documentation)</a>.<br/>\n",
              "                Project page: <a href=\"https://wandb.ai/seancampos/w251-final-lstm-r18-224-f15-c5\" target=\"_blank\">https://wandb.ai/seancampos/w251-final-lstm-r18-224-f15-c5</a><br/>\n",
              "                Run page: <a href=\"https://wandb.ai/seancampos/w251-final-lstm-r18-224-f15-c5/runs/2wfiyv7u\" target=\"_blank\">https://wandb.ai/seancampos/w251-final-lstm-r18-224-f15-c5/runs/2wfiyv7u</a><br/>\n",
              "                Run data is saved locally in <code>/content/wandb/run-20210804_152545-2wfiyv7u</code><br/><br/>\n",
              "            "
            ]
          },
          "metadata": {
            "tags": []
          }
        },
        {
          "output_type": "execute_result",
          "data": {
            "text/plain": [
              "<wandb.sdk.wandb_run.Run at 0x7fbda7fb36d0>"
            ],
            "text/html": [
              "<h1>Run(2wfiyv7u)</h1><iframe src=\"https://wandb.ai/seancampos/w251-final-lstm-r18-224-f15-c5/runs/2wfiyv7u\" style=\"border:none;width:100%;height:400px\"></iframe>"
            ]
          },
          "metadata": {
            "tags": []
          },
          "execution_count": 6
        }
      ],
      "metadata": {
        "colab": {
          "base_uri": "https://localhost:8080/",
          "height": 603
        },
        "id": "ERm0R7WMO_wY",
        "outputId": "baab6f2f-f1e7-4a9c-86e1-3c2a8953c085"
      }
    },
    {
      "cell_type": "code",
      "execution_count": 32,
      "source": [
        "# Initializing variables\n",
        "window = 9 # depends on time window\n",
        "epochs = 30\n",
        "batch_size = 64\n",
        "pose_vec_dim = 36 # depends on pose estimation model used\n",
        "cores = cpu_count()\n",
        "\n",
        "# class_names = ['ride_bike', 'run', 'sit', 'smile', 'smoke', 'stand', 'talk','walk']\n",
        "class_names = ['drink_eat','sit_squat','phone_talk','walk','selfie']\n",
        "num_class = len(class_names)\n",
        "lbl_dict = {class_name:idx for idx, class_name in enumerate(class_names)}\n",
        "\n"
      ],
      "outputs": [],
      "metadata": {
        "id": "CImrXlp4OVr3"
      }
    },
    {
      "cell_type": "code",
      "execution_count": 36,
      "source": [
        "input_file = 'preprocessoutput_ntu_r18_368.csv.gz'"
      ],
      "outputs": [],
      "metadata": {
        "id": "WBdxO-NzZkV_"
      }
    },
    {
      "cell_type": "code",
      "execution_count": 37,
      "source": [
        "dataset = pd.read_csv(input_file,  index_col=None)"
      ],
      "outputs": [],
      "metadata": {
        "id": "OL-uI4M2S0KP"
      }
    },
    {
      "cell_type": "code",
      "execution_count": 38,
      "source": [
        "labels = dataset['y'].unique()"
      ],
      "outputs": [],
      "metadata": {
        "id": "CjQm_AZ_S50o"
      }
    },
    {
      "cell_type": "code",
      "execution_count": 39,
      "source": [
        "test_dfs = []\n",
        "for label in labels:\n",
        "    a_label = dataset[dataset['y'] == label]\n",
        "    test_set = a_label.sample(frac=0.20, random_state=0)\n",
        "    test_dfs.append(test_set)\n",
        "    dataset.drop(test_set.index,inplace=True)"
      ],
      "outputs": [
        {
          "output_type": "stream",
          "name": "stdout",
          "text": [
            "290312\n",
            "232249\n"
          ]
        }
      ],
      "metadata": {
        "colab": {
          "base_uri": "https://localhost:8080/"
        },
        "id": "1xDDpQBkxYCg",
        "outputId": "d4ff275a-3452-48c7-daa6-9097d4abad6e"
      }
    },
    {
      "cell_type": "code",
      "execution_count": 42,
      "source": [
        "pd.concat(test_dfs,ignore_index=True).to_csv('test_set_ntu_r18_368.csv', index=False)\n",
        "dataset.to_csv('train_set_ntu_r18_368.csv', index=False)"
      ],
      "outputs": [],
      "metadata": {
        "id": "qPxqE8Bjx6yy"
      }
    },
    {
      "cell_type": "code",
      "execution_count": 40,
      "source": [
        "X_train, X_test, y_train, y_test = load_data(dataset)"
      ],
      "outputs": [],
      "metadata": {
        "id": "p7ucwArkx9E0"
      }
    },
    {
      "cell_type": "code",
      "execution_count": 16,
      "source": [
        "def load_data(dataset):\n",
        "    \n",
        "    y = dataset.pop('y')\n",
        "    X = dataset.values\n",
        "\n",
        "    X_train, X_test, y_train, y_test = train_test_split(X, y, test_size=0.2)\n",
        "\n",
        "    y_train = tf.keras.utils.to_categorical(list(map(lbl_dict.get, y_train)), num_class)\n",
        "    y_test = tf.keras.utils.to_categorical(list(map(lbl_dict.get, y_test)), num_class)\n",
        "\n",
        "    X_test = X_test.reshape(X_test.shape[0], pose_vec_dim, window)\n",
        "    X_train = X_train.reshape(X_train.shape[0], pose_vec_dim, window)\n",
        "    return X_train, X_test, y_train, y_test\n"
      ],
      "outputs": [],
      "metadata": {
        "id": "VdL1595AOpUd"
      }
    },
    {
      "cell_type": "code",
      "execution_count": 17,
      "source": [
        "def lstm_model():\n",
        "    model = Sequential()\n",
        "    model.add(LSTM(128, dropout=0.2, recurrent_dropout=0.2, input_shape=(pose_vec_dim, window)))\n",
        "    model.add(Dense(128, activation='relu'))\n",
        "    model.add(Dense(64, activation='relu'))\n",
        "    model.add(Dropout(0.2))\n",
        "    model.add(Dense(len(class_names), activation='softmax'))\n",
        "    print(model.summary())\n",
        "    return model\n"
      ],
      "outputs": [],
      "metadata": {
        "id": "Po_K9XC9OrAu"
      }
    },
    {
      "cell_type": "code",
      "execution_count": 18,
      "source": [
        "out_file = 'lstm_ntu_r18_368.h5'\n",
        "\n",
        "\n",
        "model = lstm_model()\n",
        "    # model = tf.keras.models.load_model('./models/lstm.h5')\n",
        "model.compile(loss='categorical_crossentropy',\n",
        "              optimizer=RMSprop(),\n",
        "              metrics=['accuracy'])\n",
        "\n",
        "X_train, X_test, y_train, y_test = load_data(dataset)\n",
        "\n"
      ],
      "outputs": [
        {
          "output_type": "stream",
          "name": "stdout",
          "text": [
            "Model: \"sequential\"\n",
            "_________________________________________________________________\n",
            "Layer (type)                 Output Shape              Param #   \n",
            "=================================================================\n",
            "lstm (LSTM)                  (None, 128)               73728     \n",
            "_________________________________________________________________\n",
            "dense (Dense)                (None, 128)               16512     \n",
            "_________________________________________________________________\n",
            "dense_1 (Dense)              (None, 64)                8256      \n",
            "_________________________________________________________________\n",
            "dropout (Dropout)            (None, 64)                0         \n",
            "_________________________________________________________________\n",
            "dense_2 (Dense)              (None, 5)                 325       \n",
            "=================================================================\n",
            "Total params: 98,821\n",
            "Trainable params: 98,821\n",
            "Non-trainable params: 0\n",
            "_________________________________________________________________\n",
            "None\n"
          ]
        }
      ],
      "metadata": {
        "colab": {
          "base_uri": "https://localhost:8080/"
        },
        "id": "p9UumJkzOtA2",
        "outputId": "e9dc5ffc-196c-469f-9a56-a04b12d60100"
      }
    },
    {
      "cell_type": "code",
      "execution_count": 19,
      "source": [
        "history = model.fit(X_train, y_train,\n",
        "                    batch_size=batch_size,\n",
        "                    epochs=epochs,\n",
        "                    verbose=1,\n",
        "                    validation_data=(X_test, y_test),\n",
        "                    callbacks=[WandbCallback()])\n",
        "\n",
        "score = model.evaluate(X_test, y_test, verbose=0)\n",
        "print('Test loss:', score[0])\n",
        "print('Test accuracy:', score[1])\n",
        "\n",
        "\n",
        "model.save(out_file)\n",
        "print(\"Saved model to disk\")"
      ],
      "outputs": [
        {
          "output_type": "stream",
          "name": "stdout",
          "text": [
            "Epoch 1/30\n",
            "2608/2608 [==============================] - 264s 99ms/step - loss: 1.0821 - accuracy: 0.5349 - val_loss: 0.8844 - val_accuracy: 0.6191\n",
            "Epoch 2/30\n",
            "2608/2608 [==============================] - 251s 96ms/step - loss: 0.9061 - accuracy: 0.6153 - val_loss: 0.8165 - val_accuracy: 0.6523\n",
            "Epoch 3/30\n",
            "2608/2608 [==============================] - 255s 98ms/step - loss: 0.8451 - accuracy: 0.6424 - val_loss: 0.7540 - val_accuracy: 0.6795\n",
            "Epoch 4/30\n",
            "2608/2608 [==============================] - 250s 96ms/step - loss: 0.8033 - accuracy: 0.6632 - val_loss: 0.7202 - val_accuracy: 0.6996\n",
            "Epoch 5/30\n",
            "2608/2608 [==============================] - 254s 97ms/step - loss: 0.7678 - accuracy: 0.6791 - val_loss: 0.6730 - val_accuracy: 0.7210\n",
            "Epoch 6/30\n",
            "2608/2608 [==============================] - 252s 97ms/step - loss: 0.7415 - accuracy: 0.6950 - val_loss: 0.6677 - val_accuracy: 0.7351\n",
            "Epoch 7/30\n",
            "2608/2608 [==============================] - 257s 98ms/step - loss: 0.7188 - accuracy: 0.7042 - val_loss: 0.6257 - val_accuracy: 0.7427\n",
            "Epoch 8/30\n",
            "2608/2608 [==============================] - 252s 97ms/step - loss: 0.7002 - accuracy: 0.7134 - val_loss: 0.6359 - val_accuracy: 0.7427\n",
            "Epoch 9/30\n",
            "2608/2608 [==============================] - 254s 97ms/step - loss: 0.6870 - accuracy: 0.7205 - val_loss: 0.5766 - val_accuracy: 0.7668\n",
            "Epoch 10/30\n",
            "2608/2608 [==============================] - 256s 98ms/step - loss: 0.6728 - accuracy: 0.7274 - val_loss: 0.5612 - val_accuracy: 0.7744\n",
            "Epoch 11/30\n",
            "2608/2608 [==============================] - 253s 97ms/step - loss: 0.6618 - accuracy: 0.7323 - val_loss: 0.5457 - val_accuracy: 0.7839\n",
            "Epoch 12/30\n",
            "2608/2608 [==============================] - 255s 98ms/step - loss: 0.6521 - accuracy: 0.7383 - val_loss: 0.5262 - val_accuracy: 0.7920\n",
            "Epoch 13/30\n",
            "2608/2608 [==============================] - 253s 97ms/step - loss: 0.6460 - accuracy: 0.7399 - val_loss: 0.5244 - val_accuracy: 0.7901\n",
            "Epoch 14/30\n",
            "2608/2608 [==============================] - 254s 97ms/step - loss: 0.6374 - accuracy: 0.7439 - val_loss: 0.5245 - val_accuracy: 0.7901\n",
            "Epoch 15/30\n",
            "2608/2608 [==============================] - 257s 99ms/step - loss: 0.6336 - accuracy: 0.7471 - val_loss: 0.5247 - val_accuracy: 0.7936\n",
            "Epoch 16/30\n",
            "2608/2608 [==============================] - 255s 98ms/step - loss: 0.6246 - accuracy: 0.7511 - val_loss: 0.5066 - val_accuracy: 0.7999\n",
            "Epoch 17/30\n",
            "2608/2608 [==============================] - 255s 98ms/step - loss: 0.6208 - accuracy: 0.7527 - val_loss: 0.5323 - val_accuracy: 0.7899\n",
            "Epoch 18/30\n",
            "2608/2608 [==============================] - 255s 98ms/step - loss: 0.6157 - accuracy: 0.7564 - val_loss: 0.5448 - val_accuracy: 0.7845\n",
            "Epoch 19/30\n",
            "2608/2608 [==============================] - 256s 98ms/step - loss: 0.6106 - accuracy: 0.7577 - val_loss: 0.4867 - val_accuracy: 0.8081\n",
            "Epoch 20/30\n",
            "2608/2608 [==============================] - 254s 97ms/step - loss: 0.6049 - accuracy: 0.7621 - val_loss: 0.4907 - val_accuracy: 0.8053\n",
            "Epoch 21/30\n",
            "2608/2608 [==============================] - 254s 97ms/step - loss: 0.6029 - accuracy: 0.7620 - val_loss: 0.4654 - val_accuracy: 0.8165\n",
            "Epoch 22/30\n",
            "2608/2608 [==============================] - 250s 96ms/step - loss: 0.5973 - accuracy: 0.7642 - val_loss: 0.4591 - val_accuracy: 0.8172\n",
            "Epoch 23/30\n",
            "2608/2608 [==============================] - 251s 96ms/step - loss: 0.5906 - accuracy: 0.7678 - val_loss: 0.4902 - val_accuracy: 0.8048\n",
            "Epoch 24/30\n",
            "2608/2608 [==============================] - 253s 97ms/step - loss: 0.5892 - accuracy: 0.7695 - val_loss: 0.4793 - val_accuracy: 0.8097\n",
            "Epoch 25/30\n",
            "2608/2608 [==============================] - 251s 96ms/step - loss: 0.5845 - accuracy: 0.7710 - val_loss: 0.4525 - val_accuracy: 0.8200\n",
            "Epoch 26/30\n",
            "2608/2608 [==============================] - 252s 97ms/step - loss: 0.5833 - accuracy: 0.7713 - val_loss: 0.4639 - val_accuracy: 0.8176\n",
            "Epoch 27/30\n",
            "2608/2608 [==============================] - 252s 97ms/step - loss: 0.5778 - accuracy: 0.7736 - val_loss: 0.4434 - val_accuracy: 0.8239\n",
            "Epoch 28/30\n",
            "2608/2608 [==============================] - 252s 97ms/step - loss: 0.5755 - accuracy: 0.7764 - val_loss: 0.4564 - val_accuracy: 0.8232\n",
            "Epoch 29/30\n",
            "2608/2608 [==============================] - 252s 97ms/step - loss: 0.5715 - accuracy: 0.7771 - val_loss: 0.4460 - val_accuracy: 0.8284\n",
            "Epoch 30/30\n",
            "2608/2608 [==============================] - 253s 97ms/step - loss: 0.5725 - accuracy: 0.7779 - val_loss: 0.4606 - val_accuracy: 0.8230\n",
            "Test loss: 0.46064120531082153\n",
            "Test accuracy: 0.8230147957801819\n",
            "Saved model to disk\n"
          ]
        }
      ],
      "metadata": {
        "colab": {
          "base_uri": "https://localhost:8080/"
        },
        "id": "zp1d32Mia96u",
        "outputId": "d2663b85-a40b-4a61-c5e6-1f0c1405221a"
      }
    },
    {
      "cell_type": "code",
      "execution_count": 21,
      "source": [
        "Y_pred = model(X_test)"
      ],
      "outputs": [],
      "metadata": {
        "id": "rFO70Wa4bsCj"
      }
    },
    {
      "cell_type": "code",
      "execution_count": 22,
      "source": [
        "Y_pred_labels = [class_names[np.argmax(y)] for y in Y_pred]"
      ],
      "outputs": [],
      "metadata": {
        "id": "XO3uY5UVdOZu"
      }
    },
    {
      "cell_type": "code",
      "execution_count": 23,
      "source": [
        "Y_true_labels = [class_names[np.argmax(y)] for y in y_test]"
      ],
      "outputs": [],
      "metadata": {
        "id": "_oLPRd4GdTQg"
      }
    },
    {
      "cell_type": "code",
      "execution_count": 24,
      "source": [
        "cm = confusion_matrix(Y_true_labels, Y_pred_labels, labels=class_names)"
      ],
      "outputs": [],
      "metadata": {
        "id": "0RqlRPPoddWo"
      }
    },
    {
      "cell_type": "code",
      "execution_count": 25,
      "source": [
        "disp = ConfusionMatrixDisplay(confusion_matrix=cm,\n",
        "                               display_labels=class_names)\n",
        "fig, ax = plt.subplots(figsize=(10,10))\n",
        "disp.plot(values_format=\".5g\", ax=ax)"
      ],
      "outputs": [
        {
          "output_type": "execute_result",
          "data": {
            "text/plain": [
              "<sklearn.metrics._plot.confusion_matrix.ConfusionMatrixDisplay at 0x7fbd9de57490>"
            ]
          },
          "metadata": {
            "tags": []
          },
          "execution_count": 25
        },
        {
          "output_type": "display_data",
          "data": {
            "text/plain": [
              "<Figure size 720x720 with 2 Axes>"
            ],
            "image/png": "[encoded data removed]"
          },
          "metadata": {
            "tags": [],
            "needs_background": "light"
          }
        }
      ],
      "metadata": {
        "colab": {
          "base_uri": "https://localhost:8080/",
          "height": 592
        },
        "id": "NDy1jUBsdfCB",
        "outputId": "a556cc8c-566b-483a-b657-39cf61235f92"
      }
    },
    {
      "cell_type": "code",
      "execution_count": 26,
      "source": [
        "wandb.finish()"
      ],
      "outputs": [
        {
          "output_type": "display_data",
          "data": {
            "text/plain": [
              "<IPython.core.display.HTML object>"
            ],
            "text/html": [
              "<br/>Waiting for W&B process to finish, PID 393<br/>Program ended successfully."
            ]
          },
          "metadata": {
            "tags": []
          }
        },
        {
          "output_type": "display_data",
          "data": {
            "text/plain": [
              "VBox(children=(Label(value=' 0.80MB of 0.80MB uploaded (0.00MB deduped)\\r'), FloatProgress(value=1.0, max=1.0)…"
            ],
            "application/vnd.jupyter.widget-view+json": {
              "model_id": "f4a2e8fcb6474e43ab8099d8ae51689b",
              "version_minor": 0,
              "version_major": 2
            }
          },
          "metadata": {
            "tags": []
          }
        },
        {
          "output_type": "display_data",
          "data": {
            "text/plain": [
              "<IPython.core.display.HTML object>"
            ],
            "text/html": [
              "Find user logs for this run at: <code>/content/wandb/run-20210804_152545-2wfiyv7u/logs/debug.log</code>"
            ]
          },
          "metadata": {
            "tags": []
          }
        },
        {
          "output_type": "display_data",
          "data": {
            "text/plain": [
              "<IPython.core.display.HTML object>"
            ],
            "text/html": [
              "Find internal logs for this run at: <code>/content/wandb/run-20210804_152545-2wfiyv7u/logs/debug-internal.log</code>"
            ]
          },
          "metadata": {
            "tags": []
          }
        },
        {
          "output_type": "display_data",
          "data": {
            "text/plain": [
              "<IPython.core.display.HTML object>"
            ],
            "text/html": [
              "<h3>Run summary:</h3><br/><style>\n",
              "    table.wandb td:nth-child(1) { padding: 0 10px; text-align: right }\n",
              "    </style><table class=\"wandb\">\n",
              "<tr><td>epoch</td><td>29</td></tr><tr><td>loss</td><td>0.57251</td></tr><tr><td>accuracy</td><td>0.7779</td></tr><tr><td>val_loss</td><td>0.46064</td></tr><tr><td>val_accuracy</td><td>0.82301</td></tr><tr><td>_runtime</td><td>8079</td></tr><tr><td>_timestamp</td><td>1628098824</td></tr><tr><td>_step</td><td>29</td></tr><tr><td>best_val_loss</td><td>0.44343</td></tr><tr><td>best_epoch</td><td>26</td></tr></table>"
            ]
          },
          "metadata": {
            "tags": []
          }
        },
        {
          "output_type": "display_data",
          "data": {
            "text/plain": [
              "<IPython.core.display.HTML object>"
            ],
            "text/html": [
              "<h3>Run history:</h3><br/><style>\n",
              "    table.wandb td:nth-child(1) { padding: 0 10px; text-align: right }\n",
              "    </style><table class=\"wandb\">\n",
              "<tr><td>epoch</td><td>▁▁▁▂▂▂▂▃▃▃▃▄▄▄▄▅▅▅▅▆▆▆▆▇▇▇▇███</td></tr><tr><td>loss</td><td>█▆▅▄▄▃▃▃▃▂▂▂▂▂▂▂▂▂▂▁▁▁▁▁▁▁▁▁▁▁</td></tr><tr><td>accuracy</td><td>▁▃▄▅▅▆▆▆▆▇▇▇▇▇▇▇▇▇▇███████████</td></tr><tr><td>val_loss</td><td>█▇▆▅▅▅▄▄▃▃▃▂▂▂▂▂▂▃▂▂▁▁▂▂▁▁▁▁▁▁</td></tr><tr><td>val_accuracy</td><td>▁▂▃▄▄▅▅▅▆▆▇▇▇▇▇▇▇▇▇▇██▇▇██████</td></tr><tr><td>_runtime</td><td>▁▁▁▂▂▂▂▃▃▃▃▄▄▄▄▅▅▅▅▆▆▆▆▇▇▇▇███</td></tr><tr><td>_timestamp</td><td>▁▁▁▂▂▂▂▃▃▃▃▄▄▄▄▅▅▅▅▆▆▆▆▇▇▇▇███</td></tr><tr><td>_step</td><td>▁▁▁▂▂▂▂▃▃▃▃▄▄▄▄▅▅▅▅▆▆▆▆▇▇▇▇███</td></tr></table><br/>"
            ]
          },
          "metadata": {
            "tags": []
          }
        },
        {
          "output_type": "display_data",
          "data": {
            "text/plain": [
              "<IPython.core.display.HTML object>"
            ],
            "text/html": [
              "Synced 5 W&B file(s), 1 media file(s), 0 artifact file(s) and 1 other file(s)"
            ]
          },
          "metadata": {
            "tags": []
          }
        },
        {
          "output_type": "display_data",
          "data": {
            "text/plain": [
              "<IPython.core.display.HTML object>"
            ],
            "text/html": [
              "\n",
              "                    <br/>Synced <strong style=\"color:#cdcd00\">celestial-voice-1</strong>: <a href=\"https://wandb.ai/seancampos/w251-final-lstm-r18-224-f15-c5/runs/2wfiyv7u\" target=\"_blank\">https://wandb.ai/seancampos/w251-final-lstm-r18-224-f15-c5/runs/2wfiyv7u</a><br/>\n",
              "                "
            ]
          },
          "metadata": {
            "tags": []
          }
        }
      ],
      "metadata": {
        "colab": {
          "base_uri": "https://localhost:8080/",
          "height": 680,
          "referenced_widgets": [
            "f4a2e8fcb6474e43ab8099d8ae51689b",
            "a32c6773b1584e3bab01298d5bc21bd0",
            "f71887e36638462199275fb1ca1c17a2",
            "3476467a0e0a4978a1b232bf3e598567",
            "290bca8806c34770bc78d215057562ec",
            "027fadd5c1504f808b900c7d44c995c5",
            "3fbe25368fa24495af4d96cc5b8e15fd",
            "2485ab1a0c274779b62a1e7af95748ff"
          ]
        },
        "id": "bM286xFWOKsm",
        "outputId": "dbc1e7eb-a52b-41d7-9d33-705f243366b4"
      }
    },
    {
      "cell_type": "code",
      "execution_count": 52,
      "source": [
        "test_model = tf.keras.models.load_model('lstm_ntu_r18_368.h5', compile = False)"
      ],
      "outputs": [],
      "metadata": {
        "id": "UfZI85WSeBwD"
      }
    },
    {
      "cell_type": "code",
      "execution_count": 44,
      "source": [
        "held_out_test = pd.read_csv('test_set_ntu_r18_368.csv')"
      ],
      "outputs": [],
      "metadata": {
        "id": "FkSBi8fpOiMn"
      }
    },
    {
      "cell_type": "code",
      "execution_count": 46,
      "source": [
        "y_ho = held_out_test.pop('y')\n",
        "X_ho = held_out_test.values"
      ],
      "outputs": [],
      "metadata": {
        "id": "G6i9r9IOeU3c"
      }
    },
    {
      "cell_type": "code",
      "execution_count": 47,
      "source": [
        "y_ho_test = tf.keras.utils.to_categorical(list(map(lbl_dict.get, y_ho)), num_class)"
      ],
      "outputs": [],
      "metadata": {
        "id": "XXxFxIcaeHd7"
      }
    },
    {
      "cell_type": "code",
      "execution_count": 48,
      "source": [
        "x_ho_test = X_ho.reshape(X_ho.shape[0], pose_vec_dim, window)"
      ],
      "outputs": [],
      "metadata": {
        "id": "E1pBXN44eIOx"
      }
    },
    {
      "cell_type": "code",
      "execution_count": 53,
      "source": [
        "Y_test_pred = test_model(x_ho_test)"
      ],
      "outputs": [],
      "metadata": {
        "id": "MjDXmBdVehvK"
      }
    },
    {
      "cell_type": "code",
      "execution_count": 54,
      "source": [
        "Y_test_pred_labels = [class_names[np.argmax(y)] for y in Y_test_pred]"
      ],
      "outputs": [],
      "metadata": {
        "id": "PKvyTEfseo2u"
      }
    },
    {
      "cell_type": "code",
      "execution_count": 63,
      "source": [
        "Y_test_true_labels = [class_names[np.argmax(y)] for y in y_ho_test]"
      ],
      "outputs": [],
      "metadata": {
        "id": "-sm8iVF6fNtX"
      }
    },
    {
      "cell_type": "code",
      "execution_count": 64,
      "source": [
        "cm = confusion_matrix(Y_test_true_labels, Y_test_pred_labels, labels=class_names)"
      ],
      "outputs": [],
      "metadata": {
        "id": "7jqnrG4jfl50"
      }
    },
    {
      "cell_type": "code",
      "execution_count": 65,
      "source": [
        "disp = ConfusionMatrixDisplay(confusion_matrix=cm,\n",
        "                               display_labels=class_names)\n",
        "fig, ax = plt.subplots(figsize=(10,10))\n",
        "disp.plot(values_format=\".5g\", ax=ax)"
      ],
      "outputs": [
        {
          "output_type": "execute_result",
          "data": {
            "text/plain": [
              "<sklearn.metrics._plot.confusion_matrix.ConfusionMatrixDisplay at 0x7fbda6883050>"
            ]
          },
          "metadata": {
            "tags": []
          },
          "execution_count": 65
        },
        {
          "output_type": "display_data",
          "data": {
            "text/plain": [
              "<Figure size 720x720 with 2 Axes>"
            ],
            "image/png": "[encoded data removed]"
          },
          "metadata": {
            "tags": [],
            "needs_background": "light"
          }
        }
      ],
      "metadata": {
        "colab": {
          "base_uri": "https://localhost:8080/",
          "height": 592
        },
        "id": "4ITQVINmfpgB",
        "outputId": "7f14a6c5-e428-41d6-ba6a-e6a6dbfff7a0"
      }
    },
    {
      "cell_type": "code",
      "execution_count": 67,
      "source": [
        "print(classification_report(Y_test_true_labels, Y_test_pred_labels))"
      ],
      "outputs": [
        {
          "output_type": "stream",
          "name": "stdout",
          "text": [
            "              precision    recall  f1-score   support\n",
            "\n",
            "   drink_eat       0.88      0.73      0.80     13746\n",
            "  phone_talk       0.72      0.89      0.80     13319\n",
            "      selfie       0.91      0.79      0.85     11297\n",
            "   sit_squat       0.80      0.82      0.81      6884\n",
            "        walk       0.90      0.93      0.91     12817\n",
            "\n",
            "    accuracy                           0.83     58063\n",
            "   macro avg       0.84      0.83      0.83     58063\n",
            "weighted avg       0.84      0.83      0.83     58063\n",
            "\n"
          ]
        }
      ],
      "metadata": {
        "colab": {
          "base_uri": "https://localhost:8080/"
        },
        "id": "mg6ZXci0fr7W",
        "outputId": "127050f7-9f02-418d-bdb1-df4a2cb8e222"
      }
    },
    {
      "cell_type": "code",
      "execution_count": 79,
      "source": [
        "pd.DataFrame(Y_true_labels,columns=['Actions']).value_counts().to_frame().plot.bar(figsize=(12,8),legend=None)"
      ],
      "outputs": [
        {
          "output_type": "execute_result",
          "data": {
            "text/plain": [
              "<matplotlib.axes._subplots.AxesSubplot at 0x7fbda58ddd50>"
            ]
          },
          "metadata": {
            "tags": []
          },
          "execution_count": 79
        },
        {
          "output_type": "display_data",
          "data": {
            "text/plain": [
              "<Figure size 864x576 with 1 Axes>"
            ],
            "image/png": "[encoded data removed]"
          },
          "metadata": {
            "tags": [],
            "needs_background": "light"
          }
        }
      ],
      "metadata": {
        "colab": {
          "base_uri": "https://localhost:8080/",
          "height": 570
        },
        "id": "74Xfa0HPg1-q",
        "outputId": "67957dc0-68ed-4160-dfad-416313b0e7df"
      }
    },
    {
      "cell_type": "code",
      "execution_count": null,
      "source": [],
      "outputs": [],
      "metadata": {
        "id": "pXki93xvhBef"
      }
    }
  ]
}